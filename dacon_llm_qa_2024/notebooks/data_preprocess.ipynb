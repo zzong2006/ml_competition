{
 "cells": [
  {
   "cell_type": "markdown",
   "metadata": {},
   "source": [
    "# 데이터 전처리 및 학습 데이터 만들기"
   ]
  },
  {
   "cell_type": "code",
   "execution_count": 1,
   "metadata": {},
   "outputs": [],
   "source": [
    "import pandas as pd\n",
    "import vllm\n",
    "import json\n",
    "\n",
    "train_data = \"../data/train.csv\"\n",
    "\n",
    "train_df = pd.read_csv(train_data)"
   ]
  },
  {
   "cell_type": "code",
   "execution_count": 2,
   "metadata": {},
   "outputs": [
    {
     "data": {
      "text/html": [
       "<div>\n",
       "<style scoped>\n",
       "    .dataframe tbody tr th:only-of-type {\n",
       "        vertical-align: middle;\n",
       "    }\n",
       "\n",
       "    .dataframe tbody tr th {\n",
       "        vertical-align: top;\n",
       "    }\n",
       "\n",
       "    .dataframe thead th {\n",
       "        text-align: right;\n",
       "    }\n",
       "</style>\n",
       "<table border=\"1\" class=\"dataframe\">\n",
       "  <thead>\n",
       "    <tr style=\"text-align: right;\">\n",
       "      <th></th>\n",
       "      <th>id</th>\n",
       "      <th>질문_1</th>\n",
       "      <th>질문_2</th>\n",
       "      <th>category</th>\n",
       "      <th>답변_1</th>\n",
       "      <th>답변_2</th>\n",
       "      <th>답변_3</th>\n",
       "      <th>답변_4</th>\n",
       "      <th>답변_5</th>\n",
       "    </tr>\n",
       "  </thead>\n",
       "  <tbody>\n",
       "    <tr>\n",
       "      <th>0</th>\n",
       "      <td>TRAIN_000</td>\n",
       "      <td>면진장치가 뭐야?</td>\n",
       "      <td>면진장치에 사용되는 주요 기술은 무엇인가요?</td>\n",
       "      <td>건축구조</td>\n",
       "      <td>면진장치란 지반에서 오는 진동 에너지를 흡수하여 건물에 주는 진동을 줄여주는 진동 ...</td>\n",
       "      <td>면진장치란 건물의 지반에서 발생하는 진동 에너지를 흡수하여 건물을 보호하고, 진동을...</td>\n",
       "      <td>면진장치란 지반으로부터 발생하는 진동 에너지를 흡수하여 건물에 전달되는 진동을 줄여...</td>\n",
       "      <td>면진장치는 건물의 지반으로부터 오는 진동 에너지를 흡수하여 건물에 전달되는 진동을 ...</td>\n",
       "      <td>면진장치는 건물에 오는 지반 진동의 영향을 최대한으로 흡수하여 건물에 전달되는 진동...</td>\n",
       "    </tr>\n",
       "    <tr>\n",
       "      <th>1</th>\n",
       "      <td>TRAIN_001</td>\n",
       "      <td>내진설계의 종류 좀 알려줘</td>\n",
       "      <td>내진설계에는 어떤 종류가 있는지 자세히 알려주실 수 있나요?</td>\n",
       "      <td>건축구조</td>\n",
       "      <td>내진 설계의 종류로 내진구조, 제진구조, 면진구조가 있습니다.</td>\n",
       "      <td>내진설계에는 내진구조, 제진구조, 면진구조가 있습니다. 내진구조는 건물 구조물이 지...</td>\n",
       "      <td>내진설계에는 주로 내진구조, 제진구조, 면진구조의 세 가지 종류가 있습니다. 이들은...</td>\n",
       "      <td>내진설계에는 주로 내진구조, 제진구조, 면진구조가 사용됩니다. 내진구조는 건물 구조...</td>\n",
       "      <td>내진 설계에는 다양한 종류가 있지만, 대표적으로 내진구조, 제진구조, 면진구조가 있...</td>\n",
       "    </tr>\n",
       "    <tr>\n",
       "      <th>2</th>\n",
       "      <td>TRAIN_002</td>\n",
       "      <td>철골구조의 장점이 뭐야?</td>\n",
       "      <td>철골구조의 장점을 알려줘?</td>\n",
       "      <td>건축구조</td>\n",
       "      <td>철골구조는 건물의 외벽에는 그다지 하중이 걸리지 않기 때문에 고층 건물의 건축이 가...</td>\n",
       "      <td>철골구조의 장점은 건물의 외벽에는 그다지 하중이 걸리지 않기 때문에 고층 건물의 건...</td>\n",
       "      <td>철골구조의 장점은 건물의 외벽에 하중이 적게 걸리기 때문에 고층 건물의 건축이 용이...</td>\n",
       "      <td>철골구조의 장점은 건물의 외벽이 하중이 걸리지 않아 공간 활용이 용이하고, 고층 건...</td>\n",
       "      <td>철골구조의 장점은 건물의 외벽에 하중이 크게 걸리지 않아 고층 건물을 건축할 수 있...</td>\n",
       "    </tr>\n",
       "    <tr>\n",
       "      <th>3</th>\n",
       "      <td>TRAIN_003</td>\n",
       "      <td>철골철근 콘크리트 구조가 뭐야?</td>\n",
       "      <td>철골철근 콘크리트 구조의 장점과 단점에는 무엇이 있을까요?</td>\n",
       "      <td>건축구조</td>\n",
       "      <td>철근철골콘크리트는 철골과 철근, 그리고 콘크리트를 함께 사용하는 건축 구조입니다. ...</td>\n",
       "      <td>철골철근콘크리트 구조는 건축물을 지탱하는 주요 구조물인 철골과 철근, 그리고 콘크리...</td>\n",
       "      <td>철골철근 콘크리트 구조는 건축물을 지탱하기 위한 구조물에서 일반적으로 사용되는 방식...</td>\n",
       "      <td>철골철근콘크리트 구조는 철골과 철근, 그리고 콘크리트를 함께 사용하여 만들어지는 건...</td>\n",
       "      <td>철골철근 콘크리트 구조는 강철 골조와 강철 철근, 그리고 콘크리트를 함께 사용하여 ...</td>\n",
       "    </tr>\n",
       "    <tr>\n",
       "      <th>4</th>\n",
       "      <td>TRAIN_004</td>\n",
       "      <td>철골구조는 어떤 방식이 있어?</td>\n",
       "      <td>철골구조의 다양한 방식이 무엇인가요?</td>\n",
       "      <td>건축구조</td>\n",
       "      <td>철골구조는 일반철골구조와 경량철골구조가 있습니다.</td>\n",
       "      <td>철골구조는 일반철골구조와 경량철골구조가 있습니다. 일반철골구조는 주로 대형 건물이나...</td>\n",
       "      <td>철골구조는 주로 일반철골구조와 경량철골구조로 나뉘어집니다. 이들은 건축 시스템에 따...</td>\n",
       "      <td>철골구조는 주로 일반철골구조와 경량철골구조로 구분됩니다. 이외에도 최근에는 고층 건...</td>\n",
       "      <td>철골구조는 일반철골구조와 경량철골구조 두 가지 방식이 주로 사용됩니다. 일반철골구조...</td>\n",
       "    </tr>\n",
       "  </tbody>\n",
       "</table>\n",
       "</div>"
      ],
      "text/plain": [
       "          id               질문_1                               질문_2 category  \\\n",
       "0  TRAIN_000          면진장치가 뭐야?           면진장치에 사용되는 주요 기술은 무엇인가요?     건축구조   \n",
       "1  TRAIN_001     내진설계의 종류 좀 알려줘  내진설계에는 어떤 종류가 있는지 자세히 알려주실 수 있나요?     건축구조   \n",
       "2  TRAIN_002      철골구조의 장점이 뭐야?                     철골구조의 장점을 알려줘?     건축구조   \n",
       "3  TRAIN_003  철골철근 콘크리트 구조가 뭐야?   철골철근 콘크리트 구조의 장점과 단점에는 무엇이 있을까요?     건축구조   \n",
       "4  TRAIN_004   철골구조는 어떤 방식이 있어?               철골구조의 다양한 방식이 무엇인가요?     건축구조   \n",
       "\n",
       "                                                답변_1  \\\n",
       "0  면진장치란 지반에서 오는 진동 에너지를 흡수하여 건물에 주는 진동을 줄여주는 진동 ...   \n",
       "1                 내진 설계의 종류로 내진구조, 제진구조, 면진구조가 있습니다.   \n",
       "2  철골구조는 건물의 외벽에는 그다지 하중이 걸리지 않기 때문에 고층 건물의 건축이 가...   \n",
       "3  철근철골콘크리트는 철골과 철근, 그리고 콘크리트를 함께 사용하는 건축 구조입니다. ...   \n",
       "4                        철골구조는 일반철골구조와 경량철골구조가 있습니다.   \n",
       "\n",
       "                                                답변_2  \\\n",
       "0  면진장치란 건물의 지반에서 발생하는 진동 에너지를 흡수하여 건물을 보호하고, 진동을...   \n",
       "1  내진설계에는 내진구조, 제진구조, 면진구조가 있습니다. 내진구조는 건물 구조물이 지...   \n",
       "2  철골구조의 장점은 건물의 외벽에는 그다지 하중이 걸리지 않기 때문에 고층 건물의 건...   \n",
       "3  철골철근콘크리트 구조는 건축물을 지탱하는 주요 구조물인 철골과 철근, 그리고 콘크리...   \n",
       "4  철골구조는 일반철골구조와 경량철골구조가 있습니다. 일반철골구조는 주로 대형 건물이나...   \n",
       "\n",
       "                                                답변_3  \\\n",
       "0  면진장치란 지반으로부터 발생하는 진동 에너지를 흡수하여 건물에 전달되는 진동을 줄여...   \n",
       "1  내진설계에는 주로 내진구조, 제진구조, 면진구조의 세 가지 종류가 있습니다. 이들은...   \n",
       "2  철골구조의 장점은 건물의 외벽에 하중이 적게 걸리기 때문에 고층 건물의 건축이 용이...   \n",
       "3  철골철근 콘크리트 구조는 건축물을 지탱하기 위한 구조물에서 일반적으로 사용되는 방식...   \n",
       "4  철골구조는 주로 일반철골구조와 경량철골구조로 나뉘어집니다. 이들은 건축 시스템에 따...   \n",
       "\n",
       "                                                답변_4  \\\n",
       "0  면진장치는 건물의 지반으로부터 오는 진동 에너지를 흡수하여 건물에 전달되는 진동을 ...   \n",
       "1  내진설계에는 주로 내진구조, 제진구조, 면진구조가 사용됩니다. 내진구조는 건물 구조...   \n",
       "2  철골구조의 장점은 건물의 외벽이 하중이 걸리지 않아 공간 활용이 용이하고, 고층 건...   \n",
       "3  철골철근콘크리트 구조는 철골과 철근, 그리고 콘크리트를 함께 사용하여 만들어지는 건...   \n",
       "4  철골구조는 주로 일반철골구조와 경량철골구조로 구분됩니다. 이외에도 최근에는 고층 건...   \n",
       "\n",
       "                                                답변_5  \n",
       "0  면진장치는 건물에 오는 지반 진동의 영향을 최대한으로 흡수하여 건물에 전달되는 진동...  \n",
       "1  내진 설계에는 다양한 종류가 있지만, 대표적으로 내진구조, 제진구조, 면진구조가 있...  \n",
       "2  철골구조의 장점은 건물의 외벽에 하중이 크게 걸리지 않아 고층 건물을 건축할 수 있...  \n",
       "3  철골철근 콘크리트 구조는 강철 골조와 강철 철근, 그리고 콘크리트를 함께 사용하여 ...  \n",
       "4  철골구조는 일반철골구조와 경량철골구조 두 가지 방식이 주로 사용됩니다. 일반철골구조...  "
      ]
     },
     "execution_count": 2,
     "metadata": {},
     "output_type": "execute_result"
    }
   ],
   "source": [
    "train_df.head()"
   ]
  },
  {
   "cell_type": "code",
   "execution_count": null,
   "metadata": {},
   "outputs": [],
   "source": [
    "import fitz  # imports the pymupdf library\n",
    "\n",
    "doc = fitz.open(\"../data/papers/000000068098_20240228233015.pdf\")  # open a document\n",
    "for page in doc:  # iterate the document pages\n",
    "    text = page.get_text()\n",
    "\n",
    "    print(text)"
   ]
  },
  {
   "cell_type": "code",
   "execution_count": 3,
   "metadata": {},
   "outputs": [
    {
     "data": {
      "application/vnd.jupyter.widget-view+json": {
       "model_id": "111024f48eed480fa20d77398765630e",
       "version_major": 2,
       "version_minor": 0
      },
      "text/plain": [
       "config.json:   0%|          | 0.00/706 [00:00<?, ?B/s]"
      ]
     },
     "metadata": {},
     "output_type": "display_data"
    },
    {
     "name": "stdout",
     "output_type": "stream",
     "text": [
      "INFO 02-28 15:20:41 llm_engine.py:79] Initializing an LLM engine with config: model='yanolja/Bookworm-10.7B-v0.4-DPO', tokenizer='yanolja/Bookworm-10.7B-v0.4-DPO', tokenizer_mode=auto, revision=None, tokenizer_revision=None, trust_remote_code=False, dtype=torch.bfloat16, max_seq_len=4096, download_dir=None, load_format=auto, tensor_parallel_size=1, disable_custom_all_reduce=False, quantization=None, enforce_eager=False, kv_cache_dtype=auto, device_config=cuda, seed=0)\n"
     ]
    },
    {
     "data": {
      "application/vnd.jupyter.widget-view+json": {
       "model_id": "11e821e15d14489fa6fb827586ba9960",
       "version_major": 2,
       "version_minor": 0
      },
      "text/plain": [
       "tokenizer_config.json:   0%|          | 0.00/1.52k [00:00<?, ?B/s]"
      ]
     },
     "metadata": {},
     "output_type": "display_data"
    },
    {
     "data": {
      "application/vnd.jupyter.widget-view+json": {
       "model_id": "cce32b15a07d49e2800dd9088d6a396e",
       "version_major": 2,
       "version_minor": 0
      },
      "text/plain": [
       "tokenizer.json:   0%|          | 0.00/2.18M [00:00<?, ?B/s]"
      ]
     },
     "metadata": {},
     "output_type": "display_data"
    },
    {
     "data": {
      "application/vnd.jupyter.widget-view+json": {
       "model_id": "4c3de7d357124a33a72c0c6758d1eb3b",
       "version_major": 2,
       "version_minor": 0
      },
      "text/plain": [
       "special_tokens_map.json:   0%|          | 0.00/557 [00:00<?, ?B/s]"
      ]
     },
     "metadata": {},
     "output_type": "display_data"
    },
    {
     "name": "stdout",
     "output_type": "stream",
     "text": [
      "INFO 02-28 15:20:47 weight_utils.py:163] Using model weights format ['*.safetensors']\n"
     ]
    },
    {
     "data": {
      "application/vnd.jupyter.widget-view+json": {
       "model_id": "78e6a45bed844f7680d86597e5c57ac3",
       "version_major": 2,
       "version_minor": 0
      },
      "text/plain": [
       "model-00005-of-00005.safetensors:   0%|          | 0.00/1.88G [00:00<?, ?B/s]"
      ]
     },
     "metadata": {},
     "output_type": "display_data"
    },
    {
     "data": {
      "application/vnd.jupyter.widget-view+json": {
       "model_id": "564ea221cdcb42cb90da85eed98e8259",
       "version_major": 2,
       "version_minor": 0
      },
      "text/plain": [
       "model-00001-of-00005.safetensors:   0%|          | 0.00/4.90G [00:00<?, ?B/s]"
      ]
     },
     "metadata": {},
     "output_type": "display_data"
    },
    {
     "data": {
      "application/vnd.jupyter.widget-view+json": {
       "model_id": "d5a8e15af64b449993f9b5c7a4dbf84f",
       "version_major": 2,
       "version_minor": 0
      },
      "text/plain": [
       "model-00003-of-00005.safetensors:   0%|          | 0.00/5.00G [00:00<?, ?B/s]"
      ]
     },
     "metadata": {},
     "output_type": "display_data"
    },
    {
     "data": {
      "application/vnd.jupyter.widget-view+json": {
       "model_id": "3243b675835a49e89f4bec4369ea2e41",
       "version_major": 2,
       "version_minor": 0
      },
      "text/plain": [
       "model-00004-of-00005.safetensors:   0%|          | 0.00/4.92G [00:00<?, ?B/s]"
      ]
     },
     "metadata": {},
     "output_type": "display_data"
    },
    {
     "data": {
      "application/vnd.jupyter.widget-view+json": {
       "model_id": "0a567aca18ad430cb47c50df0bab2be0",
       "version_major": 2,
       "version_minor": 0
      },
      "text/plain": [
       "model-00002-of-00005.safetensors:   0%|          | 0.00/4.92G [00:00<?, ?B/s]"
      ]
     },
     "metadata": {},
     "output_type": "display_data"
    },
    {
     "name": "stdout",
     "output_type": "stream",
     "text": [
      "INFO 02-28 15:21:27 llm_engine.py:337] # GPU blocks: 17185, # CPU blocks: 1365\n",
      "INFO 02-28 15:21:29 model_runner.py:676] Capturing the model for CUDA graphs. This may lead to unexpected consequences if the model is not static. To run the model in eager mode, set 'enforce_eager=True' or use '--enforce-eager' in the CLI.\n",
      "INFO 02-28 15:21:29 model_runner.py:680] CUDA graphs can take additional 1~3 GiB memory per GPU. If you are running out of memory, consider decreasing `gpu_memory_utilization` or enforcing eager mode. You can also reduce the `max_num_seqs` as needed to decrease memory usage.\n",
      "INFO 02-28 15:21:33 model_runner.py:748] Graph capturing finished in 4 secs.\n"
     ]
    }
   ],
   "source": [
    "sampling_model = vllm.LLM(model=\"yanolja/Bookworm-10.7B-v0.4-DPO\")"
   ]
  },
  {
   "cell_type": "code",
   "execution_count": 21,
   "metadata": {},
   "outputs": [],
   "source": [
    "sampling_params = vllm.SamplingParams(max_tokens=256, temperature=0.7)"
   ]
  },
  {
   "cell_type": "code",
   "execution_count": 47,
   "metadata": {},
   "outputs": [
    {
     "name": "stdout",
     "output_type": "stream",
     "text": [
      "You are given an answer wrapped with <answer> tags. You have to generate one single question which is related given answer. Wrap tag your question with <question>.\n",
      "Human: <answer>철골구조의 장점은 건물의 외벽에 하중이 적게 걸리기 때문에 고층 건물의 건축이 용이하다는 점입니다.</answer>\n",
      "Assistant: <question>철골 구조의 장점을 고층 건물과 연관지어 설명해줄 수 있나요?</question>\n",
      "Human: <answer> 면진장치란 지반으로부터 발생하는 진동 에너지를 흡수하여 건물에 전달되는 진동을 줄여주는 장치를 말합니다. 이를 통해 건물의 안전성과 안정성을 향상시키고, 지진 등의 외부 충격으로부터 보호하는 역할을 합니다. 지진으로 인한 건물의 피해를 최소화하기 위해 주로 사용됩니다. </answer> \n",
      "Assistant: <question>\n"
     ]
    }
   ],
   "source": [
    "prompt_template = (\n",
    "    \"You are given an answer wrapped with <answer> tags. You have to generate one single question which is related given answer. Wrap tag your question with <question>.\\n\"\n",
    "    \"Human: <answer>철골구조의 장점은 건물의 외벽에 하중이 적게 걸리기 때문에 고층 건물의 건축이 용이하다는 점입니다.</answer>\\nAssistant: <question>철골 구조의 장점을 고층 건물과 연관지어 설명해줄 수 있나요?</question>\\n\"\n",
    "    \"Human: <answer> {instruction} </answer> \\n\"\n",
    "    \"Assistant: <question>\"\n",
    ")\n",
    "\n",
    "formated_prompt = prompt_template.format(\n",
    "    instruction=(\n",
    "        \"면진장치란 지반으로부터 발생하는 진동 에너지를 흡수하여 건물에 전달되는 진동을 줄여주는 장치를 말합니다. \"\n",
    "        \"이를 통해 건물의 안전성과 안정성을 향상시키고, 지진 등의 외부 충격으로부터 보호하는 역할을 합니다. \"\n",
    "        \"지진으로 인한 건물의 피해를 최소화하기 위해 주로 사용됩니다.\"\n",
    "    )\n",
    ")\n",
    "print(formated_prompt)"
   ]
  },
  {
   "cell_type": "code",
   "execution_count": 53,
   "metadata": {},
   "outputs": [
    {
     "name": "stderr",
     "output_type": "stream",
     "text": [
      "Processed prompts: 100%|██████████| 1/1 [00:00<00:00,  3.61it/s]"
     ]
    },
    {
     "name": "stdout",
     "output_type": "stream",
     "text": [
      "면진장치의 주요 기능과 적용분야는 무엇인가요?</question>\n"
     ]
    },
    {
     "name": "stderr",
     "output_type": "stream",
     "text": [
      "\n"
     ]
    }
   ],
   "source": [
    "output = sampling_model.generate(prompts=[formated_prompt], sampling_params=sampling_params)\n",
    "\n",
    "for out in output:\n",
    "    print(out.outputs[0].text)"
   ]
  },
  {
   "cell_type": "markdown",
   "metadata": {},
   "source": [
    "# (1) 학습 데이터 만들기"
   ]
  },
  {
   "cell_type": "code",
   "execution_count": 54,
   "metadata": {},
   "outputs": [
    {
     "name": "stderr",
     "output_type": "stream",
     "text": [
      "Processed prompts:  94%|█████████▍| 79/84 [02:33<00:09,  1.94s/it]\n",
      "Processed prompts: 100%|██████████| 3220/3220 [02:04<00:00, 25.89it/s] \n"
     ]
    }
   ],
   "source": [
    "train_data_path = \"../data/20240228_only_train.json\"\n",
    "gen_samples = []\n",
    "answer_samples = []\n",
    "train_samples = []\n",
    "\n",
    "for idx, row in train_df.iterrows():\n",
    "    for answer in [\"답변_1\", \"답변_2\", \"답변_3\", \"답변_4\", \"답변_5\"]:\n",
    "        gen_samples.append(prompt_template.format(instruction=row[answer]))\n",
    "        answer_samples.append(row[answer])\n",
    "outputs = sampling_model.generate(prompts=gen_samples, sampling_params=sampling_params)"
   ]
  },
  {
   "cell_type": "code",
   "execution_count": 55,
   "metadata": {},
   "outputs": [],
   "source": [
    "def get_question(gen_output):\n",
    "    try:\n",
    "        if \"<question>\" not in gen_output:\n",
    "            gen_output = \"<question>\" + gen_output\n",
    "        question = gen_output.split(\"<question>\")[1].split(\"</question>\")[0].strip()\n",
    "        for black_word in [\"답변:\", \"태그로\", \"질문:\", \"태그\"]:\n",
    "            if black_word in question:\n",
    "                raise ValueError(\"Wrong question format\")\n",
    "    except Exception:\n",
    "        question = \"\"\n",
    "    return question"
   ]
  },
  {
   "cell_type": "code",
   "execution_count": 59,
   "metadata": {},
   "outputs": [
    {
     "name": "stdout",
     "output_type": "stream",
     "text": [
      "Current Good QA Pair count: 0\n",
      "Samples: []\n"
     ]
    },
    {
     "name": "stderr",
     "output_type": "stream",
     "text": [
      "Processed prompts:   0%|          | 0/9 [00:00<?, ?it/s]"
     ]
    },
    {
     "name": "stderr",
     "output_type": "stream",
     "text": [
      "Processed prompts: 100%|██████████| 9/9 [00:01<00:00,  4.71it/s]\n"
     ]
    },
    {
     "name": "stdout",
     "output_type": "stream",
     "text": [
      "Current Good QA Pair count: 3211\n",
      "Samples: [('AD와 PD에 면한 벽체 결로에 대한 대책은 무엇이며, 이를 위해 단열재는 어떻게 설치해야 하나요?', 'AD, PD에 면한 벽체 결로에 대한 대책은 단열재를 미실하게 시공하여 결로가 생기는 벽체의 표면 온도를 노점온도 이상으로만 유지해주면 됩니다.'), ('AD 및 PD에 면한 벽체 결로에 대한 예방 및 대책은 무엇이며, 이러한 조치들이 어떻게 습기 유입을 막고 건조한 환경을 유지하는 데 도움이되나요?', 'AD, PD에 면한 벽체 결로에 대한 대책은 단열재를 미실하게 시공하여 결로가 생기는 벽체의 표면 온도를 노점온도 이상으로 유지하는 것이 중요합니다. 또한, 실외 벽체의 단열재 시공과 단열재와 외피재 사이의 기밀성을 유지하여 습기 유입을 차단하는 것도 중요합니다. 추가적으로, 건조한 환경을 유지하고 벽체의 통풍을 개선하여 습기가 벽체 내부에 퍼지는 것을 방지할 수 있습니다.'), ('고층 건물의 벽체 결로를 예방하기 위해 AD, PD에 면한 벽체에 필요한 대책은 무엇이며, 어떠한 예방 조치들이 필요한가요?', 'AD, PD에 면한 벽체 결로에 대한 대책은 단열재를 미실하게 시공하여 결로가 생기는 벽체의 표면 온도를 노점온도 이상으로만 유지해주는 것이 중요합니다. 그 외에도 실외습기의 유입을 차단하고, 적절한 환기 시스템을 활용하여 공간 내 습도를 유지하고 벽체 표면을 건조하게 유지하는 것이 필요합니다. 또한, 외피의 방수 및 수증기 차단 기능을 강화하여 벽체 내부로의 습기 유입을 최소화해야 합니다. 일반적으로는 벽체의 표면뿐만 아니라 내부적으로도 겉지문 및 방수층의 철저한 시공이 필요합니다.'), ('AD, PD에 면한 벽체 결로를 방지하기 위해 단열재와 관련된 주요 대책은 무엇이며, 노점온도는 어떻게 관여하나요?', 'AD, PD에 면한 벽체 결로에 대한 대책은 단열재를 미실하게 시공하여 결로가 생기는 벽체의 표면 온도를 노점온도 이상으로만 유지해주는 것이 중요합니다. 노점온도는 결로가 발생하는 환경온도를 의미하는데, 단열재를 사용하여 벽체의 표면 온도를 노점온도 이상으로 유지하면 결로 현상을 방지할 수 있습니다. 이 외에도 통풍을 유지하고 수분의 이동을 막는 등의 추가적인 대책이 필요할 수 있습니다.'), ('AD, PD에 면한 벽체의 결로에 대한 대책은 무엇이며, 이러한 결로를 방지하기 위해 건물 외부와 내부 온도 차이를 어떻게 조절해야 하나요?', 'AD, PD에 면한 벽체의 결로에 대한 대책으로는 단열재를 미실하게 시공하여 결로가 생기는 벽체의 표면 온도를 노점온도 이상으로 유지해주는 것이 중요합니다. 결로가 발생하는 것을 방지하기 위해서는 적절한 수온조절과 단열재 시공이 필요합니다. 또한, 실내 습도를 적정 수준으로 유지하고 외부에서의 열이나 수분이 벽체에 스며들지 않도록 주의해야 합니다. AD, PD에 면한 벽체 결로에 대한 대책으로는 건물의 외부와 내부 온도 대조를 잘 조절하여 결로 발생을 최소화하는 것이 필요합니다.')]\n"
     ]
    },
    {
     "name": "stderr",
     "output_type": "stream",
     "text": [
      "Processed prompts: 0it [00:00, ?it/s]\n"
     ]
    }
   ],
   "source": [
    "for idx, row in train_df.iterrows():\n",
    "    for answer in [\"답변_1\", \"답변_2\", \"답변_3\", \"답변_4\", \"답변_5\"]:\n",
    "        gen_samples.append(prompt_template.format(instruction=row[answer]))\n",
    "        answer_samples.append(row[answer])\n",
    "\n",
    "good_qa_pair = []\n",
    "while len(gen_samples) != 0:\n",
    "    print(f\"Current Good QA Pair count: {len(good_qa_pair)}\\nSamples: {good_qa_pair[-5:]}\")\n",
    "    gen_samples = []\n",
    "    new_answer_samples = []\n",
    "    for answer, output in zip(answer_samples, outputs):\n",
    "        question = get_question(output.outputs[0].text)\n",
    "        if question != \"\":\n",
    "            good_qa_pair.append((question, answer))\n",
    "        else:\n",
    "            new_answer_samples.append(answer)\n",
    "            gen_samples.append(prompt_template.format(instruction=answer))\n",
    "    answer_samples = new_answer_samples.copy()\n",
    "    outputs = sampling_model.generate(\n",
    "        prompts=gen_samples, sampling_params=sampling_params\n",
    "    )"
   ]
  },
  {
   "cell_type": "code",
   "execution_count": 60,
   "metadata": {},
   "outputs": [
    {
     "data": {
      "text/plain": [
       "[('시멘트사이딩의 단점에는 어떤 것들이 있으며, 설치 시 주의해야 할 사항은 무엇인가요?',\n",
       "  '시멘트사이딩의 단점 중 하나는 기존에 말씀드린 대로 오염이 쉽게 발생한다는 점입니다. 또한, 이러한 사이딩은 설치 과정이 다소 복잡하고 무거운 재료를 다루어야 한다는 점 역시 고려해야 할 단점입니다. 불순물이 탑재되어 있는 실리카 먼지에 노출될 경우, 호흡기 문제가 발생할 수 있다는 점도 유의해야 합니다. 그러므로 시멘트사이딩을 다룰 때에는 보호장비를 착용하고, 안전에 주의를 기울이는 것이 중요합니다.'),\n",
       " ('미니멀리스트 스타일의 공간을 꾸미기 위해 어떤 요소를 고려해야 하나요?',\n",
       "  '미니멀리스트 스타일의 공간 꾸밈에는 간결한 소품과 가구, 깔끔한 디자인이 중요합니다. 따라서 불필요한 소품을 제거하고, 단순하면서도 세련된 가구를 선택하여 공간을 꾸며보세요. 또한, 명암이 조화로운 컬러 팔레트와 깔끔한 수평선을 강조하는 현관, 창문, 문, 그림과 사진 등을 통해 꾸밀 수 있습니다.'),\n",
       " ('주방세제를 사용하여 오염된 부분이나 도구를 청소하는 방법은 무엇이며, 청소 후에도 오염이 남아있을 경우 어떻게 해야 하나요?',\n",
       "  '주방세제를 물과 함께 걸레에 묻혀 닦아내야 합니다. 만약, 해당 방법으로 오염이 사라지지 않는다면 오염된 부분 혹은 전체를 교체해야 합니다.'),\n",
       " ('소화기 설치 기준은 건물의 연면적과 보행거리에 따라 어떻게 정해지며, 소화기 배치 간격은 얼마인가요?',\n",
       "  '소화기 설치 기준은 건물의 연면적에 따라서 정해지며, 보행거리에 따라 설치해아합니다. 연면적 3.3제곱미터마다 소화기를 설치해야 하고, 각 층마다 소화기를 설치하여야 합니다. 소형소화기의 경우 보행거리 20m마다 1개 이상, 대형 소화기의 경우 보행거리 30m 이내마다 1개 이상 설치해야 합니다.'),\n",
       " ('한지벽지 사용 시 발생할 수 있는 주요 단점은 무엇이며, 관리가 어려운 이유는 무엇인가요?',\n",
       "  '한지벽지의 단점은 내구성이 상대적으로 약하고 관리가 어렵다는 점입니다. 특히 습기와 물에 약하며 흡수된 물로 인해 변형될 수 있습니다. 또한 벽지 표면에 발생한 얼룩이나 오염물을 제거하기 어려울 수 있습니다.'),\n",
       " ('발수제는 어떤 종류가 있으며, 어느 재료에 어떤 종류를 효과적으로 적용하여 유지 보수와 내구성을 향상시킬 수 있나요?',\n",
       "  '발수제에는 유성 발수제, 속건형 발수제, 수성발수제가 있습니다. 이 외에도 나노 발수제와 같은 다양한 종류가 있으며, 각각의 발수제는 특정한 재료나 특성에 맞게 선택하여 사용할 수 있습니다. 발수제는 특정 재료에 대해 효과적인 방법으로 물이나 유체의 침투를 막아 유지 보수 및 내구성을 향상시키는 역할을 합니다.'),\n",
       " ('줄퍼티 마감이란 무엇이며, 올퍼티 마감을 대체한 이유는 무엇인가요?',\n",
       "  '줄퍼티 마감은 건물 내부 벽면이나 천장의 석고보드 연결 부분에 발생하는 끈끈한 퍼티를 채워주고, 매끈한 표면을 만들어주는 작업을 말합니다. 일반적으로 1차와 2차로 나누어 작업을 수행하며, 올퍼티 마감보다 저렴하면서도 꾸준하게 사용되고 있습니다. 다만, 이음메 부분의 배부름 현상과 질감 차이가 발생할 수 있으므로 식당이나 가게, 공장과 같이 외관보다는 내부 마무리가 중요시되는 곳에 주로 적용됩니다.'),\n",
       " ('실크 벽지를 부분적으로 제거한 후 도배를 할 경우 도배지가 찢어지는 이유는 무엇이며, 이를 방지하기 위해 어떻게 해야 하나요?',\n",
       "  '기존의 실크 벽지를 완전히 제거하지 않고 새로운 도배를 하게 되면, 도배지가 찢어질 수 있는 가능성이 있습니다. 이는 기존 벽지의 부착력이 완전히 제거되지 않았기 때문에 발생하는 문제입니다. 따라서 실크 벽지를 제거할 때는 주의깊게 제거하여 새로운 도배를 하기 전에는 완전히 깨끗한 상태로 준비하는 것이 중요합니다.'),\n",
       " ('AD, PD에 면한 벽체의 결로에 대한 대책은 무엇이며, 이러한 결로를 방지하기 위해 건물 외부와 내부 온도 차이를 어떻게 조절해야 하나요?',\n",
       "  'AD, PD에 면한 벽체의 결로에 대한 대책으로는 단열재를 미실하게 시공하여 결로가 생기는 벽체의 표면 온도를 노점온도 이상으로 유지해주는 것이 중요합니다. 결로가 발생하는 것을 방지하기 위해서는 적절한 수온조절과 단열재 시공이 필요합니다. 또한, 실내 습도를 적정 수준으로 유지하고 외부에서의 열이나 수분이 벽체에 스며들지 않도록 주의해야 합니다. AD, PD에 면한 벽체 결로에 대한 대책으로는 건물의 외부와 내부 온도 대조를 잘 조절하여 결로 발생을 최소화하는 것이 필요합니다.'),\n",
       " ('페놀폼 단열재의 주요 장점, 특징, 그리고 주의사항은 무엇이며, 어디에 주로 사용되는지 설명해줄 수 있나요?',\n",
       "  '페놀폼은 페놀포름알데히드 수지로 만든 보드에 폴리우레탄 필름을 래핑한 단열재입니다. 이 제품은 단열성능이 매우 우수하며 높은 내화온도를 보유하고 유독가스 발생을 최소화합니다. 특히 한국건설기술연구원에서 내화15분 성적서와 준불연 성적서를 획득한 제품이기도 합니다. 페놀폼은 일반 단열재보다 절반 두께로 사용 가능하며, 에너지 절감 효과로 냉난방비를 줄여줍니다. 게다가 Non-Freon 친환경 발포가스를 사용하여 녹색건축 인증 가산점 1점을 획득할 수 있습니다.  그러나 이 제품은 수분을 흡수할 경우 열저항이 크게 감소하고, 낮은 pH로 인해 강철의 부식을 가속화시킬 수 있습니다. 또한 잔류 포름알데하이드의 존재로 건강과 안전에 문제를 야기할 수 있습니다. 폴리우레탄 필름의 접착문제로 인해 편법시공이 발생하고, 절단 시 박지가 떨어져 수율이 크게 떨어질 수 있습니다. 이 제품은 일체벽, 철근콘크리트 구조와 같은 구조물에 적용됩니다. 또한 난연/방염 성능을 기대한다면 양쪽면의 내화성능이 다르기 때문에 주의가 필요합니다. 추가로 알루미늄 박지를 외장재에 붙이지 않고 접착력이 좋은 반대면을 붙이는 편법시공의 문제가 있으니 주의가 필요합니다.')]"
      ]
     },
     "execution_count": 60,
     "metadata": {},
     "output_type": "execute_result"
    }
   ],
   "source": [
    "import random\n",
    "\n",
    "random.sample(good_qa_pair, k=10)"
   ]
  },
  {
   "cell_type": "code",
   "execution_count": 61,
   "metadata": {},
   "outputs": [
    {
     "data": {
      "text/plain": [
       "3220"
      ]
     },
     "execution_count": 61,
     "metadata": {},
     "output_type": "execute_result"
    }
   ],
   "source": [
    "len(good_qa_pair)"
   ]
  },
  {
   "cell_type": "code",
   "execution_count": 65,
   "metadata": {},
   "outputs": [],
   "source": [
    "train_samples = []\n",
    "with open(train_data_path, \"w\") as fwrite:\n",
    "    for question, answer in good_qa_pair:\n",
    "        doc = {\n",
    "            \"instruction\": question,\n",
    "            \"input\": \"\",\n",
    "            \"output\": answer,\n",
    "            \"history\": [],\n",
    "        }\n",
    "        train_samples.append(doc)\n",
    "    json.dump(train_samples, fwrite, ensure_ascii=False)"
   ]
  },
  {
   "cell_type": "code",
   "execution_count": null,
   "metadata": {},
   "outputs": [],
   "source": []
  }
 ],
 "metadata": {
  "kernelspec": {
   "display_name": ".venv",
   "language": "python",
   "name": "python3"
  },
  "language_info": {
   "codemirror_mode": {
    "name": "ipython",
    "version": 3
   },
   "file_extension": ".py",
   "mimetype": "text/x-python",
   "name": "python",
   "nbconvert_exporter": "python",
   "pygments_lexer": "ipython3",
   "version": "3.10.13"
  }
 },
 "nbformat": 4,
 "nbformat_minor": 2
}
