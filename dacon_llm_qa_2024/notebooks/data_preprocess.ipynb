{
 "cells": [
  {
   "cell_type": "markdown",
   "metadata": {},
   "source": [
    "# 데이터 전처리 및 학습 데이터 만들기"
   ]
  },
  {
   "cell_type": "code",
   "execution_count": 2,
   "metadata": {},
   "outputs": [],
   "source": [
    "import pandas as pd\n",
    "import vllm\n",
    "import json\n",
    "\n",
    "train_data = \"../data/train.csv\"\n",
    "\n",
    "train_df = pd.read_csv(train_data)"
   ]
  },
  {
   "cell_type": "code",
   "execution_count": 3,
   "metadata": {},
   "outputs": [
    {
     "data": {
      "text/html": [
       "<div>\n",
       "<style scoped>\n",
       "    .dataframe tbody tr th:only-of-type {\n",
       "        vertical-align: middle;\n",
       "    }\n",
       "\n",
       "    .dataframe tbody tr th {\n",
       "        vertical-align: top;\n",
       "    }\n",
       "\n",
       "    .dataframe thead th {\n",
       "        text-align: right;\n",
       "    }\n",
       "</style>\n",
       "<table border=\"1\" class=\"dataframe\">\n",
       "  <thead>\n",
       "    <tr style=\"text-align: right;\">\n",
       "      <th></th>\n",
       "      <th>id</th>\n",
       "      <th>질문_1</th>\n",
       "      <th>질문_2</th>\n",
       "      <th>category</th>\n",
       "      <th>답변_1</th>\n",
       "      <th>답변_2</th>\n",
       "      <th>답변_3</th>\n",
       "      <th>답변_4</th>\n",
       "      <th>답변_5</th>\n",
       "    </tr>\n",
       "  </thead>\n",
       "  <tbody>\n",
       "    <tr>\n",
       "      <th>0</th>\n",
       "      <td>TRAIN_000</td>\n",
       "      <td>면진장치가 뭐야?</td>\n",
       "      <td>면진장치에 사용되는 주요 기술은 무엇인가요?</td>\n",
       "      <td>건축구조</td>\n",
       "      <td>면진장치란 지반에서 오는 진동 에너지를 흡수하여 건물에 주는 진동을 줄여주는 진동 ...</td>\n",
       "      <td>면진장치란 건물의 지반에서 발생하는 진동 에너지를 흡수하여 건물을 보호하고, 진동을...</td>\n",
       "      <td>면진장치란 지반으로부터 발생하는 진동 에너지를 흡수하여 건물에 전달되는 진동을 줄여...</td>\n",
       "      <td>면진장치는 건물의 지반으로부터 오는 진동 에너지를 흡수하여 건물에 전달되는 진동을 ...</td>\n",
       "      <td>면진장치는 건물에 오는 지반 진동의 영향을 최대한으로 흡수하여 건물에 전달되는 진동...</td>\n",
       "    </tr>\n",
       "    <tr>\n",
       "      <th>1</th>\n",
       "      <td>TRAIN_001</td>\n",
       "      <td>내진설계의 종류 좀 알려줘</td>\n",
       "      <td>내진설계에는 어떤 종류가 있는지 자세히 알려주실 수 있나요?</td>\n",
       "      <td>건축구조</td>\n",
       "      <td>내진 설계의 종류로 내진구조, 제진구조, 면진구조가 있습니다.</td>\n",
       "      <td>내진설계에는 내진구조, 제진구조, 면진구조가 있습니다. 내진구조는 건물 구조물이 지...</td>\n",
       "      <td>내진설계에는 주로 내진구조, 제진구조, 면진구조의 세 가지 종류가 있습니다. 이들은...</td>\n",
       "      <td>내진설계에는 주로 내진구조, 제진구조, 면진구조가 사용됩니다. 내진구조는 건물 구조...</td>\n",
       "      <td>내진 설계에는 다양한 종류가 있지만, 대표적으로 내진구조, 제진구조, 면진구조가 있...</td>\n",
       "    </tr>\n",
       "    <tr>\n",
       "      <th>2</th>\n",
       "      <td>TRAIN_002</td>\n",
       "      <td>철골구조의 장점이 뭐야?</td>\n",
       "      <td>철골구조의 장점을 알려줘?</td>\n",
       "      <td>건축구조</td>\n",
       "      <td>철골구조는 건물의 외벽에는 그다지 하중이 걸리지 않기 때문에 고층 건물의 건축이 가...</td>\n",
       "      <td>철골구조의 장점은 건물의 외벽에는 그다지 하중이 걸리지 않기 때문에 고층 건물의 건...</td>\n",
       "      <td>철골구조의 장점은 건물의 외벽에 하중이 적게 걸리기 때문에 고층 건물의 건축이 용이...</td>\n",
       "      <td>철골구조의 장점은 건물의 외벽이 하중이 걸리지 않아 공간 활용이 용이하고, 고층 건...</td>\n",
       "      <td>철골구조의 장점은 건물의 외벽에 하중이 크게 걸리지 않아 고층 건물을 건축할 수 있...</td>\n",
       "    </tr>\n",
       "    <tr>\n",
       "      <th>3</th>\n",
       "      <td>TRAIN_003</td>\n",
       "      <td>철골철근 콘크리트 구조가 뭐야?</td>\n",
       "      <td>철골철근 콘크리트 구조의 장점과 단점에는 무엇이 있을까요?</td>\n",
       "      <td>건축구조</td>\n",
       "      <td>철근철골콘크리트는 철골과 철근, 그리고 콘크리트를 함께 사용하는 건축 구조입니다. ...</td>\n",
       "      <td>철골철근콘크리트 구조는 건축물을 지탱하는 주요 구조물인 철골과 철근, 그리고 콘크리...</td>\n",
       "      <td>철골철근 콘크리트 구조는 건축물을 지탱하기 위한 구조물에서 일반적으로 사용되는 방식...</td>\n",
       "      <td>철골철근콘크리트 구조는 철골과 철근, 그리고 콘크리트를 함께 사용하여 만들어지는 건...</td>\n",
       "      <td>철골철근 콘크리트 구조는 강철 골조와 강철 철근, 그리고 콘크리트를 함께 사용하여 ...</td>\n",
       "    </tr>\n",
       "    <tr>\n",
       "      <th>4</th>\n",
       "      <td>TRAIN_004</td>\n",
       "      <td>철골구조는 어떤 방식이 있어?</td>\n",
       "      <td>철골구조의 다양한 방식이 무엇인가요?</td>\n",
       "      <td>건축구조</td>\n",
       "      <td>철골구조는 일반철골구조와 경량철골구조가 있습니다.</td>\n",
       "      <td>철골구조는 일반철골구조와 경량철골구조가 있습니다. 일반철골구조는 주로 대형 건물이나...</td>\n",
       "      <td>철골구조는 주로 일반철골구조와 경량철골구조로 나뉘어집니다. 이들은 건축 시스템에 따...</td>\n",
       "      <td>철골구조는 주로 일반철골구조와 경량철골구조로 구분됩니다. 이외에도 최근에는 고층 건...</td>\n",
       "      <td>철골구조는 일반철골구조와 경량철골구조 두 가지 방식이 주로 사용됩니다. 일반철골구조...</td>\n",
       "    </tr>\n",
       "  </tbody>\n",
       "</table>\n",
       "</div>"
      ],
      "text/plain": [
       "          id               질문_1                               질문_2 category  \\\n",
       "0  TRAIN_000          면진장치가 뭐야?           면진장치에 사용되는 주요 기술은 무엇인가요?     건축구조   \n",
       "1  TRAIN_001     내진설계의 종류 좀 알려줘  내진설계에는 어떤 종류가 있는지 자세히 알려주실 수 있나요?     건축구조   \n",
       "2  TRAIN_002      철골구조의 장점이 뭐야?                     철골구조의 장점을 알려줘?     건축구조   \n",
       "3  TRAIN_003  철골철근 콘크리트 구조가 뭐야?   철골철근 콘크리트 구조의 장점과 단점에는 무엇이 있을까요?     건축구조   \n",
       "4  TRAIN_004   철골구조는 어떤 방식이 있어?               철골구조의 다양한 방식이 무엇인가요?     건축구조   \n",
       "\n",
       "                                                답변_1  \\\n",
       "0  면진장치란 지반에서 오는 진동 에너지를 흡수하여 건물에 주는 진동을 줄여주는 진동 ...   \n",
       "1                 내진 설계의 종류로 내진구조, 제진구조, 면진구조가 있습니다.   \n",
       "2  철골구조는 건물의 외벽에는 그다지 하중이 걸리지 않기 때문에 고층 건물의 건축이 가...   \n",
       "3  철근철골콘크리트는 철골과 철근, 그리고 콘크리트를 함께 사용하는 건축 구조입니다. ...   \n",
       "4                        철골구조는 일반철골구조와 경량철골구조가 있습니다.   \n",
       "\n",
       "                                                답변_2  \\\n",
       "0  면진장치란 건물의 지반에서 발생하는 진동 에너지를 흡수하여 건물을 보호하고, 진동을...   \n",
       "1  내진설계에는 내진구조, 제진구조, 면진구조가 있습니다. 내진구조는 건물 구조물이 지...   \n",
       "2  철골구조의 장점은 건물의 외벽에는 그다지 하중이 걸리지 않기 때문에 고층 건물의 건...   \n",
       "3  철골철근콘크리트 구조는 건축물을 지탱하는 주요 구조물인 철골과 철근, 그리고 콘크리...   \n",
       "4  철골구조는 일반철골구조와 경량철골구조가 있습니다. 일반철골구조는 주로 대형 건물이나...   \n",
       "\n",
       "                                                답변_3  \\\n",
       "0  면진장치란 지반으로부터 발생하는 진동 에너지를 흡수하여 건물에 전달되는 진동을 줄여...   \n",
       "1  내진설계에는 주로 내진구조, 제진구조, 면진구조의 세 가지 종류가 있습니다. 이들은...   \n",
       "2  철골구조의 장점은 건물의 외벽에 하중이 적게 걸리기 때문에 고층 건물의 건축이 용이...   \n",
       "3  철골철근 콘크리트 구조는 건축물을 지탱하기 위한 구조물에서 일반적으로 사용되는 방식...   \n",
       "4  철골구조는 주로 일반철골구조와 경량철골구조로 나뉘어집니다. 이들은 건축 시스템에 따...   \n",
       "\n",
       "                                                답변_4  \\\n",
       "0  면진장치는 건물의 지반으로부터 오는 진동 에너지를 흡수하여 건물에 전달되는 진동을 ...   \n",
       "1  내진설계에는 주로 내진구조, 제진구조, 면진구조가 사용됩니다. 내진구조는 건물 구조...   \n",
       "2  철골구조의 장점은 건물의 외벽이 하중이 걸리지 않아 공간 활용이 용이하고, 고층 건...   \n",
       "3  철골철근콘크리트 구조는 철골과 철근, 그리고 콘크리트를 함께 사용하여 만들어지는 건...   \n",
       "4  철골구조는 주로 일반철골구조와 경량철골구조로 구분됩니다. 이외에도 최근에는 고층 건...   \n",
       "\n",
       "                                                답변_5  \n",
       "0  면진장치는 건물에 오는 지반 진동의 영향을 최대한으로 흡수하여 건물에 전달되는 진동...  \n",
       "1  내진 설계에는 다양한 종류가 있지만, 대표적으로 내진구조, 제진구조, 면진구조가 있...  \n",
       "2  철골구조의 장점은 건물의 외벽에 하중이 크게 걸리지 않아 고층 건물을 건축할 수 있...  \n",
       "3  철골철근 콘크리트 구조는 강철 골조와 강철 철근, 그리고 콘크리트를 함께 사용하여 ...  \n",
       "4  철골구조는 일반철골구조와 경량철골구조 두 가지 방식이 주로 사용됩니다. 일반철골구조...  "
      ]
     },
     "execution_count": 3,
     "metadata": {},
     "output_type": "execute_result"
    }
   ],
   "source": [
    "train_df.head()"
   ]
  },
  {
   "cell_type": "code",
   "execution_count": null,
   "metadata": {},
   "outputs": [],
   "source": [
    "import fitz  # imports the pymupdf library\n",
    "\n",
    "doc = fitz.open(\"../data/papers/000000068098_20240228233015.pdf\")  # open a document\n",
    "for page in doc:  # iterate the document pages\n",
    "    text = page.get_text()\n",
    "\n",
    "    print(text)"
   ]
  },
  {
   "cell_type": "code",
   "execution_count": 5,
   "metadata": {},
   "outputs": [
    {
     "name": "stdout",
     "output_type": "stream",
     "text": [
      "INFO 02-28 16:24:34 llm_engine.py:79] Initializing an LLM engine with config: model='yanolja/Bookworm-10.7B-v0.4-DPO', tokenizer='yanolja/Bookworm-10.7B-v0.4-DPO', tokenizer_mode=auto, revision=None, tokenizer_revision=None, trust_remote_code=False, dtype=torch.bfloat16, max_seq_len=4096, download_dir=None, load_format=auto, tensor_parallel_size=1, disable_custom_all_reduce=False, quantization=None, enforce_eager=False, kv_cache_dtype=auto, device_config=cuda, seed=0)\n",
      "INFO 02-28 16:24:37 weight_utils.py:163] Using model weights format ['*.safetensors']\n",
      "INFO 02-28 16:24:43 llm_engine.py:337] # GPU blocks: 17185, # CPU blocks: 1365\n",
      "INFO 02-28 16:24:45 model_runner.py:676] Capturing the model for CUDA graphs. This may lead to unexpected consequences if the model is not static. To run the model in eager mode, set 'enforce_eager=True' or use '--enforce-eager' in the CLI.\n",
      "INFO 02-28 16:24:45 model_runner.py:680] CUDA graphs can take additional 1~3 GiB memory per GPU. If you are running out of memory, consider decreasing `gpu_memory_utilization` or enforcing eager mode. You can also reduce the `max_num_seqs` as needed to decrease memory usage.\n",
      "INFO 02-28 16:24:50 model_runner.py:748] Graph capturing finished in 6 secs.\n"
     ]
    }
   ],
   "source": [
    "sampling_model = vllm.LLM(model=\"yanolja/Bookworm-10.7B-v0.4-DPO\")"
   ]
  },
  {
   "cell_type": "code",
   "execution_count": 6,
   "metadata": {},
   "outputs": [],
   "source": [
    "sampling_params = vllm.SamplingParams(max_tokens=256, temperature=0.7)"
   ]
  },
  {
   "cell_type": "code",
   "execution_count": 7,
   "metadata": {},
   "outputs": [
    {
     "name": "stdout",
     "output_type": "stream",
     "text": [
      "You are given an answer wrapped with <answer> tags. You have to generate one single question which is related given answer. Wrap tag your question with <question>.\n",
      "Human: <answer>철골구조의 장점은 건물의 외벽에 하중이 적게 걸리기 때문에 고층 건물의 건축이 용이하다는 점입니다.</answer>\n",
      "Assistant: <question>철골 구조의 장점을 고층 건물과 연관지어 설명해줄 수 있나요?</question>\n",
      "Human: <answer> 면진장치란 지반으로부터 발생하는 진동 에너지를 흡수하여 건물에 전달되는 진동을 줄여주는 장치를 말합니다. 이를 통해 건물의 안전성과 안정성을 향상시키고, 지진 등의 외부 충격으로부터 보호하는 역할을 합니다. 지진으로 인한 건물의 피해를 최소화하기 위해 주로 사용됩니다. </answer> \n",
      "Assistant: <question>\n"
     ]
    }
   ],
   "source": [
    "prompt_template = (\n",
    "    \"You are given an answer wrapped with <answer> tags. You have to generate one single question which is related given answer. Wrap tag your question with <question>.\\n\"\n",
    "    \"Human: <answer>철골구조의 장점은 건물의 외벽에 하중이 적게 걸리기 때문에 고층 건물의 건축이 용이하다는 점입니다.</answer>\\nAssistant: <question>철골 구조의 장점을 고층 건물과 연관지어 설명해줄 수 있나요?</question>\\n\"\n",
    "    \"Human: <answer> {instruction} </answer> \\n\"\n",
    "    \"Assistant: <question>\"\n",
    ")\n",
    "\n",
    "formated_prompt = prompt_template.format(\n",
    "    instruction=(\n",
    "        \"면진장치란 지반으로부터 발생하는 진동 에너지를 흡수하여 건물에 전달되는 진동을 줄여주는 장치를 말합니다. \"\n",
    "        \"이를 통해 건물의 안전성과 안정성을 향상시키고, 지진 등의 외부 충격으로부터 보호하는 역할을 합니다. \"\n",
    "        \"지진으로 인한 건물의 피해를 최소화하기 위해 주로 사용됩니다.\"\n",
    "    )\n",
    ")\n",
    "print(formated_prompt)"
   ]
  },
  {
   "cell_type": "code",
   "execution_count": 8,
   "metadata": {},
   "outputs": [
    {
     "name": "stderr",
     "output_type": "stream",
     "text": [
      "Processed prompts: 100%|██████████| 1/1 [00:00<00:00,  2.15it/s]"
     ]
    },
    {
     "name": "stdout",
     "output_type": "stream",
     "text": [
      "면진장치란 무엇이며, 지진 중에서도 건물의 안전성을 향상시키는 데 어떤 역할을 하나요?</question>\n"
     ]
    },
    {
     "name": "stderr",
     "output_type": "stream",
     "text": [
      "\n"
     ]
    }
   ],
   "source": [
    "output = sampling_model.generate(prompts=[formated_prompt], sampling_params=sampling_params)\n",
    "\n",
    "for out in output:\n",
    "    print(out.outputs[0].text)"
   ]
  },
  {
   "cell_type": "markdown",
   "metadata": {},
   "source": [
    "# (1) 학습 데이터 만들기"
   ]
  },
  {
   "cell_type": "code",
   "execution_count": 9,
   "metadata": {},
   "outputs": [
    {
     "name": "stderr",
     "output_type": "stream",
     "text": [
      "Processed prompts: 100%|██████████| 3220/3220 [02:03<00:00, 25.98it/s] \n"
     ]
    }
   ],
   "source": [
    "train_data_path = \"../data/20240228_only_train.json\"\n",
    "gen_samples = []\n",
    "answer_samples = []\n",
    "train_samples = []\n",
    "\n",
    "for idx, row in train_df.iterrows():\n",
    "    for answer in [\"답변_1\", \"답변_2\", \"답변_3\", \"답변_4\", \"답변_5\"]:\n",
    "        gen_samples.append(prompt_template.format(instruction=row[answer]))\n",
    "        answer_samples.append(row[answer])\n",
    "outputs = sampling_model.generate(prompts=gen_samples, sampling_params=sampling_params)"
   ]
  },
  {
   "cell_type": "code",
   "execution_count": 10,
   "metadata": {},
   "outputs": [],
   "source": [
    "def get_question(gen_output):\n",
    "    try:\n",
    "        if \"<question>\" not in gen_output:\n",
    "            gen_output = \"<question>\" + gen_output\n",
    "        question = gen_output.split(\"<question>\")[1].split(\"</question>\")[0].strip()\n",
    "        for black_word in [\"답변:\", \"태그로\", \"질문:\", \"태그\"]:\n",
    "            if black_word in question:\n",
    "                raise ValueError(\"Wrong question format\")\n",
    "    except Exception:\n",
    "        question = \"\"\n",
    "    return question"
   ]
  },
  {
   "cell_type": "code",
   "execution_count": 11,
   "metadata": {},
   "outputs": [
    {
     "name": "stdout",
     "output_type": "stream",
     "text": [
      "Current Good QA Pair count: 0\n",
      "Samples: []\n"
     ]
    },
    {
     "name": "stderr",
     "output_type": "stream",
     "text": [
      "Processed prompts:   0%|          | 0/6 [00:00<?, ?it/s]"
     ]
    },
    {
     "name": "stderr",
     "output_type": "stream",
     "text": [
      "Processed prompts: 100%|██████████| 6/6 [00:00<00:00,  8.02it/s]\n"
     ]
    },
    {
     "name": "stdout",
     "output_type": "stream",
     "text": [
      "Current Good QA Pair count: 3214\n",
      "Samples: [('AD 및 PD에 면하는 벽체 결로에 대한 대책은 무엇이며, 이를 유지하기 위한 단계는 무엇인가요?', 'AD, PD에 면한 벽체 결로에 대한 대책은 단열재를 미실하게 시공하여 결로가 생기는 벽체의 표면 온도를 노점온도 이상으로만 유지해주면 됩니다.'), ('AD, PD에 면한 벽체 결로에 대한 대책은 무엇이며, 어떻게 효과적으로 적용할 수 있나요?', 'AD, PD에 면한 벽체 결로에 대한 대책은 단열재를 미실하게 시공하여 결로가 생기는 벽체의 표면 온도를 노점온도 이상으로 유지하는 것이 중요합니다. 또한, 실외 벽체의 단열재 시공과 단열재와 외피재 사이의 기밀성을 유지하여 습기 유입을 차단하는 것도 중요합니다. 추가적으로, 건조한 환경을 유지하고 벽체의 통풍을 개선하여 습기가 벽체 내부에 퍼지는 것을 방지할 수 있습니다.'), ('AD, PD에 면한 벽체 결로 예방에 대한 대책은 무엇이며, 이를 위한 건축 재료의 적절한 적용은 어떻게 되어야 하나요?', 'AD, PD에 면한 벽체 결로에 대한 대책은 단열재를 미실하게 시공하여 결로가 생기는 벽체의 표면 온도를 노점온도 이상으로만 유지해주는 것이 중요합니다. 그 외에도 실외습기의 유입을 차단하고, 적절한 환기 시스템을 활용하여 공간 내 습도를 유지하고 벽체 표면을 건조하게 유지하는 것이 필요합니다. 또한, 외피의 방수 및 수증기 차단 기능을 강화하여 벽체 내부로의 습기 유입을 최소화해야 합니다. 일반적으로는 벽체의 표면뿐만 아니라 내부적으로도 겉지문 및 방수층의 철저한 시공이 필요합니다.'), ('AD, PD에 면한 벽체 결로 예방을 위해 단열재 시공 시 고려해야 할 사항은 무엇이며, 다양한 대책은 어떠해야 하나요?', 'AD, PD에 면한 벽체 결로에 대한 대책은 단열재를 미실하게 시공하여 결로가 생기는 벽체의 표면 온도를 노점온도 이상으로만 유지해주는 것이 중요합니다. 노점온도는 결로가 발생하는 환경온도를 의미하는데, 단열재를 사용하여 벽체의 표면 온도를 노점온도 이상으로 유지하면 결로 현상을 방지할 수 있습니다. 이 외에도 통풍을 유지하고 수분의 이동을 막는 등의 추가적인 대책이 필요할 수 있습니다.'), ('AD, PD에 면한 벽체 결로에 대한 대책으로 적절한 수온 조절, 단열재 시공, 실내 습도 조절 및 외부 열이나 수분의 차단과 같은 요소들이 어떠한 역할을 하나요?', 'AD, PD에 면한 벽체의 결로에 대한 대책으로는 단열재를 미실하게 시공하여 결로가 생기는 벽체의 표면 온도를 노점온도 이상으로 유지해주는 것이 중요합니다. 결로가 발생하는 것을 방지하기 위해서는 적절한 수온조절과 단열재 시공이 필요합니다. 또한, 실내 습도를 적정 수준으로 유지하고 외부에서의 열이나 수분이 벽체에 스며들지 않도록 주의해야 합니다. AD, PD에 면한 벽체 결로에 대한 대책으로는 건물의 외부와 내부 온도 대조를 잘 조절하여 결로 발생을 최소화하는 것이 필요합니다.')]\n"
     ]
    },
    {
     "name": "stderr",
     "output_type": "stream",
     "text": [
      "Processed prompts: 0it [00:00, ?it/s]\n"
     ]
    }
   ],
   "source": [
    "for idx, row in train_df.iterrows():\n",
    "    for answer in [\"답변_1\", \"답변_2\", \"답변_3\", \"답변_4\", \"답변_5\"]:\n",
    "        gen_samples.append(prompt_template.format(instruction=row[answer]))\n",
    "        answer_samples.append(row[answer])\n",
    "\n",
    "good_qa_pair = []\n",
    "while len(gen_samples) != 0:\n",
    "    print(\n",
    "        f\"Current Good QA Pair count: {len(good_qa_pair)}\\nSamples: {good_qa_pair[-5:]}\"\n",
    "    )\n",
    "    gen_samples = []\n",
    "    new_answer_samples = []\n",
    "    for answer, output in zip(answer_samples, outputs):\n",
    "        question = get_question(output.outputs[0].text)\n",
    "        if question != \"\":\n",
    "            good_qa_pair.append((question, answer))\n",
    "        else:\n",
    "            new_answer_samples.append(answer)\n",
    "            gen_samples.append(prompt_template.format(instruction=answer))\n",
    "    answer_samples = new_answer_samples.copy()\n",
    "    outputs = sampling_model.generate(\n",
    "        prompts=gen_samples, sampling_params=sampling_params\n",
    "    )"
   ]
  },
  {
   "cell_type": "code",
   "execution_count": 12,
   "metadata": {},
   "outputs": [
    {
     "data": {
      "text/plain": [
       "[('시멘트사이딩의 단점에 대해 설명해줄 수 있나요?',\n",
       "  '시멘트사이딩의 단점으로는 오염에 쉽게 노출되어 변색되는 경향이 있고, 초기 비용은 낮아 보이지만 장기적으로 유지 보수가 필요해 추가 비용이 발생한다는 점이 있습니다.'),\n",
       " ('미니멀리스트 스타일로 공간을 꾸미는 데 도움이 되는 주요 요소들은 무엇인가요?',\n",
       "  '미니멀리스트 스타일을 위해 불필요한 소품 제거, 단순한 가구, 그리고 깔끔한 디자인을 고려하세요.'),\n",
       " ('못이나 이물질로 인해 벽이 평평하지 않을 때 도배질을 할 때 발생할 수 있는 문제점은 무엇이며, 이를 방지하기 위해서는 어떤 조치를 취해야 하나요?',\n",
       "  '못, 또는 다른 이물질로 인해 벽면이 평평하지 않을 때 도배를 하면 도배지가 제대로 부착되지 않아 면 불량이 발생할 수 있습니다. 따라서 벽면을 철저히 청소하고 편평한 상태를 유지하는 것이 중요합니다.'),\n",
       " ('소화기의 설치 기준은 무엇인가요?',\n",
       "  '소화기 설치 기준은 연면적 3.3제곱미터마다 설치해야 하고 각층마다 설치해야 하며 소형소화기의 경우 보행거리 20m마다 1개 이상, 대형 소화기인 경우 보행거리 30m 이내마다 1개 이상 설치해야 합니다.'),\n",
       " ('한지벽지의 장단점은 무엇이며, 특히 내구성, 관리에 있어서 어떤 특징이 있나요?',\n",
       "  '한지벽지는 아름다운 문양과 색상을 제공하지만, 내구성이 상대적으로 약하고 관리가 어렵다는 단점이 있습니다. 추가적으로 습기에 노출되면 손상될 수 있고, 빛에 노출되면 변색될 수 있어 적합한 관리가 필요합니다.'),\n",
       " ('발수제에 사용되는 재료와 그 기능에 대해 설명해 줄 수 있나요?',\n",
       "  '발수제에는 주로 유성 발수제, 속건형 발수제, 수성 발수제가 사용됩니다. 이 중에서 유성 발수제는 기름이나 왁스 성분으로 제조되어 물을 통과하지 못하도록 방지하는 효과가 있습니다. 속건형 발수제는 제품 내부에 물이 습기를 이루지 않도록 하는 역할을 합니다. 수성 발수제는 물방울이 형성되지 않고 표면에서 미끄러지도록 하는 역할을 합니다.'),\n",
       " ('줄퍼티 마감이란 무엇이며, 상업 시설에 주로 사용되는 이유는 무엇인가요?',\n",
       "  '줄퍼티 마감은 석고보드의 이음메 부분을 메우고, 1차와 2차로 퍼티를 바르는 것을 의미합니다. 이 방법은 올퍼티 마감에 비해 비용이 저렴하다는 장점이 있지만, 이음메 부분의 두께가 부풀어 오르는 현상이 있을 수 있으며, 줄퍼티를 한 곳과 하지 않은 곳의 질감에 차이가 생길 수 있다는 단점이 있습니다. 이러한 특성 때문에 주로 가게, 식당, 공장과 같은 상업 시설에 많이 적용됩니다.'),\n",
       " ('실크 벽지를 제거할 때 제대로 하지 않아 터짐 현상이 발생할 수 있는 원인은 무엇인가요?',\n",
       "  '기존 실크 벽지를 제대로 제거하지 않은 경우 터짐 하자가 발생할 수 있습니다.'),\n",
       " ('AD, PD에 면한 벽체 결로에 대한 대책은 무엇이며, 어떻게 효과적으로 적용할 수 있나요?',\n",
       "  'AD, PD에 면한 벽체 결로에 대한 대책은 단열재를 미실하게 시공하여 결로가 생기는 벽체의 표면 온도를 노점온도 이상으로 유지하는 것이 중요합니다. 또한, 실외 벽체의 단열재 시공과 단열재와 외피재 사이의 기밀성을 유지하여 습기 유입을 차단하는 것도 중요합니다. 추가적으로, 건조한 환경을 유지하고 벽체의 통풍을 개선하여 습기가 벽체 내부에 퍼지는 것을 방지할 수 있습니다.'),\n",
       " ('페놀폼의 장단점과 용도에 대해 설명해줄 수 있나요?',\n",
       "  '페놀폼은 페놀포름알데히드 수지로 만든 보드에 폴리우레탄 필름을 래핑한 단열재로, 단열성능이 가장 뛰어나며 높은 내화온도를 가지고 있습니다. 이로써 냉난방비를 줄여주어 에너지를 절약할 수 있으며, Non-Freon 친환경 발포가스를 사용하여 녹색건축 인증 가산점 1점을 획들할 수 있습니다. 하지만, 수분 흡수 시 열저항이 감소하고, 낮은 PH로 강철의 부식을 가속화하며, 잔류 포름알데히드의 존재로 건강과 안전에 영향을 줄 수 있습니다. 또한, 폴리우레탄 필름의 접착문제와 편법시공의 문제가 있을 수 있습니다. 이러한 특징들로 보아 페놀폼은 주로 철근콘크리트 구조에 적용되며, 양쪽면의 내화성능이 다를 수 있습니다.')]"
      ]
     },
     "execution_count": 12,
     "metadata": {},
     "output_type": "execute_result"
    }
   ],
   "source": [
    "import random\n",
    "\n",
    "random.sample(good_qa_pair, k=10)"
   ]
  },
  {
   "cell_type": "code",
   "execution_count": 13,
   "metadata": {},
   "outputs": [
    {
     "data": {
      "text/plain": [
       "3220"
      ]
     },
     "execution_count": 13,
     "metadata": {},
     "output_type": "execute_result"
    }
   ],
   "source": [
    "len(good_qa_pair)"
   ]
  },
  {
   "cell_type": "code",
   "execution_count": 14,
   "metadata": {},
   "outputs": [],
   "source": [
    "train_samples = []\n",
    "with open(train_data_path, \"w\") as fwrite:\n",
    "    for question, answer in good_qa_pair:\n",
    "        doc = {\n",
    "            \"instruction\": question,\n",
    "            \"system\": (\n",
    "                \"You are an assistant who answers a given question.\"\n",
    "                \"Answer the question truthfully with what you know about the given question.\"\n",
    "                \"Your answer should include information that helps answer the question.\"\n",
    "                \"Don't write answers that contain misinformation.\"\n",
    "            ),\n",
    "            \"output\": answer,\n",
    "            \"history\": [],\n",
    "        }\n",
    "        train_samples.append(doc)\n",
    "    json.dump(train_samples, fwrite, ensure_ascii=False)"
   ]
  },
  {
   "cell_type": "code",
   "execution_count": null,
   "metadata": {},
   "outputs": [],
   "source": []
  }
 ],
 "metadata": {
  "kernelspec": {
   "display_name": ".venv",
   "language": "python",
   "name": "python3"
  },
  "language_info": {
   "codemirror_mode": {
    "name": "ipython",
    "version": 3
   },
   "file_extension": ".py",
   "mimetype": "text/x-python",
   "name": "python",
   "nbconvert_exporter": "python",
   "pygments_lexer": "ipython3",
   "version": "3.10.13"
  }
 },
 "nbformat": 4,
 "nbformat_minor": 2
}
